{
 "cells": [
  {
   "cell_type": "code",
   "execution_count": 10,
   "metadata": {},
   "outputs": [],
   "source": [
    "from models.db_connection import DBConnection\n",
    "\n",
    "class BaseController:\n",
    "    def __init__(self, db_name):\n",
    "        self.db = DBConnection(db_name)\n",
    "\n",
    "    def connect_to_db(self):\n",
    "        self.db.connect()\n",
    "\n",
    "    def close_db(self):\n",
    "        self.db.close()"
   ]
  }
 ],
 "metadata": {
  "kernelspec": {
   "display_name": "base",
   "language": "python",
   "name": "python3"
  },
  "language_info": {
   "codemirror_mode": {
    "name": "ipython",
    "version": 3
   },
   "file_extension": ".py",
   "mimetype": "text/x-python",
   "name": "python",
   "nbconvert_exporter": "python",
   "pygments_lexer": "ipython3",
   "version": "3.11.5"
  }
 },
 "nbformat": 4,
 "nbformat_minor": 2
}
