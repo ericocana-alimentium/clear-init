{
 "cells": [
  {
   "cell_type": "code",
   "execution_count": 1,
   "metadata": {},
   "outputs": [
    {
     "ename": "ModuleNotFoundError",
     "evalue": "No module named 'models'",
     "output_type": "error",
     "traceback": [
      "\u001b[1;31m---------------------------------------------------------------------------\u001b[0m",
      "\u001b[1;31mModuleNotFoundError\u001b[0m                       Traceback (most recent call last)",
      "Cell \u001b[1;32mIn[1], line 1\u001b[0m\n\u001b[1;32m----> 1\u001b[0m \u001b[38;5;28;01mfrom\u001b[39;00m \u001b[38;5;21;01mmodels\u001b[39;00m\u001b[38;5;21;01m.\u001b[39;00m\u001b[38;5;21;01mConnectaAlimentiumModel\u001b[39;00m \u001b[38;5;28;01mimport\u001b[39;00m ConnectaAlimentiumModel\n\u001b[0;32m      2\u001b[0m \u001b[38;5;28;01mfrom\u001b[39;00m \u001b[38;5;21;01mcontrollers\u001b[39;00m\u001b[38;5;21;01m.\u001b[39;00m\u001b[38;5;21;01mBaseController\u001b[39;00m \u001b[38;5;28;01mimport\u001b[39;00m BaseController\n\u001b[0;32m      4\u001b[0m \u001b[38;5;28;01mclass\u001b[39;00m \u001b[38;5;21;01mConnectaAlimentiumController\u001b[39;00m(BaseController):\n",
      "\u001b[1;31mModuleNotFoundError\u001b[0m: No module named 'models'"
     ]
    }
   ],
   "source": [
    "from controllers.BaseController import BaseController\n",
    "\n",
    "class ConnectaAlimentiumController(BaseController):\n",
    "    def __init__(self, db_name):\n",
    "        super().__init__(db_name)\n",
    "        self.datos_aeme = None\n",
    "        self.productos_agentes = []\n",
    "\n",
    "    def cambiar_base_datos(self, nueva_bd):\n",
    "        \"\"\"\n",
    "        Cambia la base de datos actual.\n",
    "        \"\"\"\n",
    "        if not self.db or not self.db.cursor:\n",
    "            self.connect_to_db()\n",
    "\n",
    "        self.db.cambiar_base_datos(nueva_bd)\n",
    "\n",
    "    def crear_tabla_temporal(self, idcAgente, modulo):\n",
    "        \"\"\"\n",
    "        Crea la tabla temporal en la base de datos `Connecta_Alimentium`.\n",
    "        \"\"\"\n",
    "        if not self.db or not self.db.cursor:\n",
    "            self.connect_to_db()\n",
    "        \n",
    "        connecta_model = ConnectaAlimentiumModel(self.db.cursor)\n",
    "        self.datos_aeme = connecta_model.crear_tabla_temporal(idcAgente, modulo)\n",
    "        print (f\"{self.datos_aeme}\")\n",
    "\n",
    "    def obtener_productos_agentes(self):\n",
    "        \"\"\"\n",
    "        Obtiene los productos de la tabla `dbo.ProductosAgentes` usando la tabla temporal.\n",
    "        \"\"\"\n",
    "        if not self.db or not self.db.cursor:\n",
    "            self.connect_to_db()\n",
    "        \n",
    "        connecta_model = ConnectaAlimentiumModel(self.db.cursor)\n",
    "        self.productos_agentes = connecta_model.obtener_productos_agentes(self.datos_aeme)\n",
    "        return self.productos_agentes\n",
    "\n",
    "    def generar_queries_connecta(self):\n",
    "        \n",
    "        \"\"\"\n",
    "        Genera las queries necesarias para limpiar los datos en la base de datos Connecta_Alimentium.\n",
    "        Usa las listas y las queries generadas previamente.\n",
    "        \"\"\"\n",
    "\n",
    "        if not self.productos_agentes:\n",
    "            raise ValueError(\"No se encontraron productos agentes. Asegúrese de haber ejecutado `obtener_productos_agentes` primero.\")\n",
    "        \n",
    "        connecta_model = ConnectaAlimentiumModel(self.db.cursor)\n",
    "        queries = connecta_model.generar_queries(self.productos_agentes)\n",
    "        return queries\n",
    "\n",
    "    def close_connection(self):\n",
    "        self.close_db()\n"
   ]
  },
  {
   "cell_type": "code",
   "execution_count": null,
   "metadata": {},
   "outputs": [],
   "source": [
    "ConnectaAlimentiumController.cambiar_base_datos('Connecta_Alimentium')"
   ]
  }
 ],
 "metadata": {
  "kernelspec": {
   "display_name": "base",
   "language": "python",
   "name": "python3"
  },
  "language_info": {
   "codemirror_mode": {
    "name": "ipython",
    "version": 3
   },
   "file_extension": ".py",
   "mimetype": "text/x-python",
   "name": "python",
   "nbconvert_exporter": "python",
   "pygments_lexer": "ipython3",
   "version": "3.11.5"
  }
 },
 "nbformat": 4,
 "nbformat_minor": 2
}
