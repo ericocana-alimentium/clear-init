{
 "cells": [
  {
   "cell_type": "code",
   "execution_count": null,
   "metadata": {},
   "outputs": [],
   "source": [
    "import importlib\n",
    "from views import first \n",
    "from controllers import WorkFlowController \n",
    "import controllers.ConnectaAlimentiumController as connect_module\n",
    "print(dir(connect_module))\n",
    "\n",
    "# Si has hecho cambios en first.py, usa importlib para recargar el módulo\n",
    "importlib.reload(first)\n",
    "importlib.reload(WorkFlowController)\n",
    "importlib.reload(connect_module)"
   ]
  },
  {
   "cell_type": "code",
   "execution_count": null,
   "metadata": {},
   "outputs": [],
   "source": [
    "# Llamamos a la función main definida en first.py\n",
    "first.main()"
   ]
  }
 ],
 "metadata": {
  "kernelspec": {
   "display_name": "base",
   "language": "python",
   "name": "python3"
  },
  "language_info": {
   "codemirror_mode": {
    "name": "ipython",
    "version": 3
   },
   "file_extension": ".py",
   "mimetype": "text/x-python",
   "name": "python",
   "nbconvert_exporter": "python",
   "pygments_lexer": "ipython3",
   "version": "3.11.5"
  }
 },
 "nbformat": 4,
 "nbformat_minor": 2
}
