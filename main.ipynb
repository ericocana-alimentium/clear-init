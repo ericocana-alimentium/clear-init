{
 "cells": [
  {
   "cell_type": "code",
   "execution_count": 1,
   "metadata": {},
   "outputs": [
    {
     "name": "stdout",
     "output_type": "stream",
     "text": [
      "['BaseController', 'ConnectaAlimentiumController', 'ConnectaAlimentiumModel', 'ErrorHandler', '__builtins__', '__cached__', '__doc__', '__file__', '__loader__', '__name__', '__package__', '__spec__', 'datetime', 'os']\n"
     ]
    },
    {
     "data": {
      "text/plain": [
       "<module 'controllers.ConnectaAlimentiumController' from 'c:\\\\Users\\\\EricOcaña\\\\Documents\\\\GitHub\\\\clear-init\\\\controllers\\\\ConnectaAlimentiumController.py'>"
      ]
     },
     "execution_count": 1,
     "metadata": {},
     "output_type": "execute_result"
    }
   ],
   "source": [
    "import importlib\n",
    "from views import first \n",
    "from controllers import WorkFlowController \n",
    "import controllers.ConnectaAlimentiumController as connect_module\n",
    "print(dir(connect_module))\n",
    "\n",
    "importlib.reload(first)\n",
    "importlib.reload(WorkFlowController)\n",
    "importlib.reload(connect_module)"
   ]
  },
  {
   "cell_type": "code",
   "execution_count": 2,
   "metadata": {},
   "outputs": [
    {
     "name": "stdout",
     "output_type": "stream",
     "text": [
      "Conectado a la base de datos: AemeDb\n",
      "Query final: SELECT idcAgente, Codigo FROM wfl.WorkFlowAgente WHERE idcAgente = '50780' AND Codigo = 'HomologacionProductoPascual'\n",
      "Query construida: SELECT idcAgente, Codigo FROM wfl.WorkFlowAgente WHERE idcAgente = '50780' AND Codigo = 'HomologacionProductoPascual'\n",
      "Query final: SELECT Id, WorkflowId, ProductoOrganizacionId FROM wfl.ProcesoWorkFlow WHERE WorkFlowId = wfl.GetModuloAgenteId('HomologacionProductoPascual')\n",
      "Query construida: SELECT Id, WorkflowId, ProductoOrganizacionId FROM wfl.ProcesoWorkFlow WHERE WorkFlowId = wfl.GetModuloAgenteId('HomologacionProductoPascual')\n",
      "Query final: SELECT Id, Codigo, FichaTecnicaPrincipalId FROM ProductoOrganizacion WHERE IdcAgente = '50780'\n",
      "Query construida: SELECT Id, Codigo, FichaTecnicaPrincipalId FROM ProductoOrganizacion WHERE IdcAgente = '50780'\n",
      "Conectado a la base de datos: Connecta_Alimentium\n",
      "Cambiado a la base de datos: Connecta_Alimentium\n",
      "Query construida: IF OBJECT_ID('tempdb..#tpAemeDatos') IS NOT NULL DROP TABLE #tpAemeDatos\n",
      "Modificación ejecutada exitosamente\n",
      "Query final: SELECT AeMeDb..ProductoOrganizacion.Id AS ProductoOrganizacionId, AeMeDb..ProductoOrganizacion.Codigo INTO Connecta_Alimentium..#tpAemeDatos FROM AeMeDb..ProductoOrganizacion INNER JOIN AeMeDb.wfl.ProcesoWorkFlow ON AeMeDb..ProductoOrganizacion.Id = AeMeDb.wfl.ProcesoWorkFlow.ProductoOrganizacionId WHERE AeMeDb..ProductoOrganizacion.idcAgente = 50780 AND AeMeDb.wfl.ProcesoWorkFlow.WorkflowId = AeMeDb.wfl.GetModuloAgenteId('HomologacionProductoPascual')\n",
      "Query builder: SELECT AeMeDb..ProductoOrganizacion.Id AS ProductoOrganizacionId, AeMeDb..ProductoOrganizacion.Codigo INTO Connecta_Alimentium..#tpAemeDatos FROM AeMeDb..ProductoOrganizacion INNER JOIN AeMeDb.wfl.ProcesoWorkFlow ON AeMeDb..ProductoOrganizacion.Id = AeMeDb.wfl.ProcesoWorkFlow.ProductoOrganizacionId WHERE AeMeDb..ProductoOrganizacion.idcAgente = 50780 AND AeMeDb.wfl.ProcesoWorkFlow.WorkflowId = AeMeDb.wfl.GetModuloAgenteId('HomologacionProductoPascual')\n",
      "Query construida: SELECT AeMeDb..ProductoOrganizacion.Id AS ProductoOrganizacionId, AeMeDb..ProductoOrganizacion.Codigo INTO Connecta_Alimentium..#tpAemeDatos FROM AeMeDb..ProductoOrganizacion INNER JOIN AeMeDb.wfl.ProcesoWorkFlow ON AeMeDb..ProductoOrganizacion.Id = AeMeDb.wfl.ProcesoWorkFlow.ProductoOrganizacionId WHERE AeMeDb..ProductoOrganizacion.idcAgente = 50780 AND AeMeDb.wfl.ProcesoWorkFlow.WorkflowId = AeMeDb.wfl.GetModuloAgenteId('HomologacionProductoPascual')\n",
      "Modificación ejecutada exitosamente\n",
      "Query construida: SELECT * FROM #tpAemeDatos\n",
      "Query de creación de tabla temporal almacenada: SELECT AeMeDb..ProductoOrganizacion.Id AS ProductoOrganizacionId, AeMeDb..ProductoOrganizacion.Codigo INTO Connecta_Alimentium..#tpAemeDatos FROM AeMeDb..ProductoOrganizacion INNER JOIN AeMeDb.wfl.ProcesoWorkFlow ON AeMeDb..ProductoOrganizacion.Id = AeMeDb.wfl.ProcesoWorkFlow.ProductoOrganizacionId WHERE AeMeDb..ProductoOrganizacion.idcAgente = 50780 AND AeMeDb.wfl.ProcesoWorkFlow.WorkflowId = AeMeDb.wfl.GetModuloAgenteId('HomologacionProductoPascual')\n",
      "[(190197, '0000009901'), (277164, '00070824'), (277164, '00070824'), (277164, '00070824'), (265699, '00260725'), (207322, '00287715'), (258398, '18072024'), (152498, '30009467'), (152498, '30009467'), (152499, '30009468'), (152499, '30009468'), (152499, '30009468'), (152499, '30009468'), (152565, '30011362'), (152627, '30012331'), (152670, '30012650'), (153053, '30014616'), (153165, '30014865'), (153257, '30015200'), (153257, '30015200'), (153452, '30015754'), (153723, '30016405'), (294651, '30017186'), (294651, '30017186'), (181793, '30017221'), (278114, '30017487'), (269310, '30072024'), (255639, '99030724'), (331265, '99072402'), (256549, '99160724'), (277166, '99290724'), (181777, '99999999'), (181777, '99999999'), (181777, '99999999'), (181777, '99999999'), (181777, '99999999'), (181777, '99999999'), (181777, '99999999'), (181777, '99999999'), (181777, '99999999'), (181777, '99999999'), (181777, '99999999'), (181777, '99999999'), (181777, '99999999'), (320767, 'A3899936'), (320767, 'A3899936'), (317947, 'A4196428'), (331271, 'A4487795'), (331272, 'A4709479'), (331273, 'A4792212'), (316979, 'A5277976'), (331275, 'A5664344'), (331276, 'A5768244'), (214025, 'XXXX0001'), (214025, 'XXXX0001'), (182518, 'Y1')]\n",
      "Datos de self.datos_aeme en el controlador: ['0000009901', '00070824', '00070824', '00070824', '00260725', '00287715', '18072024', '30009467', '30009467', '30009468', '30009468', '30009468', '30009468', '30011362', '30012331', '30012650', '30014616', '30014865', '30015200', '30015200', '30015754', '30016405', '30017186', '30017186', '30017221', '30017487', '30072024', '99030724', '99072402', '99160724', '99290724', '99999999', '99999999', '99999999', '99999999', '99999999', '99999999', '99999999', '99999999', '99999999', '99999999', '99999999', '99999999', '99999999', 'A3899936', 'A3899936', 'A4196428', 'A4487795', 'A4709479', 'A4792212', 'A5277976', 'A5664344', 'A5768244', 'XXXX0001', 'XXXX0001', 'Y1']\n",
      "Query final: SELECT IdcAgente, IdcProducto, Codigo, Status, IdcFabricante FROM dbo.ProductosAgentes WHERE Codigo IN ('0000009901', '00070824', '00070824', '00070824', '00260725', '00287715', '18072024', '30009467', '30009467', '30009468', '30009468', '30009468', '30009468', '30011362', '30012331', '30012650', '30014616', '30014865', '30015200', '30015200', '30015754', '30016405', '30017186', '30017186', '30017221', '30017487', '30072024', '99030724', '99072402', '99160724', '99290724', '99999999', '99999999', '99999999', '99999999', '99999999', '99999999', '99999999', '99999999', '99999999', '99999999', '99999999', '99999999', '99999999', 'A3899936', 'A3899936', 'A4196428', 'A4487795', 'A4709479', 'A4792212', 'A5277976', 'A5664344', 'A5768244', 'XXXX0001', 'XXXX0001', 'Y1') AND IdcAgente = '50780'\n",
      "Query construida: SELECT IdcAgente, IdcProducto, Codigo, Status, IdcFabricante FROM dbo.ProductosAgentes WHERE Codigo IN ('0000009901', '00070824', '00070824', '00070824', '00260725', '00287715', '18072024', '30009467', '30009467', '30009468', '30009468', '30009468', '30009468', '30011362', '30012331', '30012650', '30014616', '30014865', '30015200', '30015200', '30015754', '30016405', '30017186', '30017186', '30017221', '30017487', '30072024', '99030724', '99072402', '99160724', '99290724', '99999999', '99999999', '99999999', '99999999', '99999999', '99999999', '99999999', '99999999', '99999999', '99999999', '99999999', '99999999', '99999999', 'A3899936', 'A3899936', 'A4196428', 'A4487795', 'A4709479', 'A4792212', 'A5277976', 'A5664344', 'A5768244', 'XXXX0001', 'XXXX0001', 'Y1') AND IdcAgente = '50780'\n",
      "Query para crear #tpClientesAlimentium: \n",
      "SELECT IdcAgenteOrigen INTO #tpClientesAlimentium FROM ParametrosAgentes WHERE Parametro LIKE '%PAGO%' AND Valor = 'X' AND IdcAgenteOrigen <> 50780\n",
      "\n",
      "Query final: DELETE dbo.Multimedia FROM dbo.ProductosAgentes pa INNER JOIN dbo.Productos ON dbo.Productos.IdcProducto = pa.IdcProducto INNER JOIN dbo.ProductosAgentes pafab ON pafab.IdcAgente = dbo.Productos.IdcFabricante AND pafab.IdcProducto = dbo.Productos.IdcProducto INNER JOIN dbo.Multimedia ON dbo.Multimedia.IdcAgente = pafab.IdcAgente AND dbo.Multimedia.EjeProducto = pafab.Codigo INNER JOIN clasifinteragentes cia ON cia.IdcAgenteOrigen = pa.IdcAgente AND cia.IdcAgenteDestino = pafab.IdcAgente INNER JOIN #tpAemeDatos ON #tpAemeDatos.Codigo = pa.Codigo WHERE pa.IdcAgente = 50780 AND dbo.Productos.IdcFabricante NOT IN (SELECT * FROM #tpClientesAlimentium)\n",
      "Query de DELETE generada para Multimedia: DELETE dbo.Multimedia FROM dbo.ProductosAgentes pa INNER JOIN dbo.Productos ON dbo.Productos.IdcProducto = pa.IdcProducto INNER JOIN dbo.ProductosAgentes pafab ON pafab.IdcAgente = dbo.Productos.IdcFabricante AND pafab.IdcProducto = dbo.Productos.IdcProducto INNER JOIN dbo.Multimedia ON dbo.Multimedia.IdcAgente = pafab.IdcAgente AND dbo.Multimedia.EjeProducto = pafab.Codigo INNER JOIN clasifinteragentes cia ON cia.IdcAgenteOrigen = pa.IdcAgente AND cia.IdcAgenteDestino = pafab.IdcAgente INNER JOIN #tpAemeDatos ON #tpAemeDatos.Codigo = pa.Codigo WHERE pa.IdcAgente = 50780 AND dbo.Productos.IdcFabricante NOT IN (SELECT * FROM #tpClientesAlimentium)\n",
      "Query final: DELETE pafab FROM dbo.ProductosAgentes pa INNER JOIN dbo.Productos ON dbo.Productos.IdcProducto = pa.IdcProducto INNER JOIN dbo.ProductosAgentes pafab ON pafab.IdcAgente = dbo.Productos.IdcFabricante AND pafab.IdcProducto = dbo.Productos.IdcProducto INNER JOIN clasifinteragentes cia ON cia.IdcAgenteOrigen = pa.IdcAgente AND cia.IdcAgenteDestino = pafab.IdcAgente INNER JOIN #tpAemeDatos ON #tpAemeDatos.Codigo = pa.Codigo WHERE pa.IdcAgente = 50780 AND dbo.Productos.IdcFabricante NOT IN (SELECT * FROM #tpClientesAlimentium)\n",
      "Query de DELETE generada para ProductosProveedores: DELETE pafab FROM dbo.ProductosAgentes pa INNER JOIN dbo.Productos ON dbo.Productos.IdcProducto = pa.IdcProducto INNER JOIN dbo.ProductosAgentes pafab ON pafab.IdcAgente = dbo.Productos.IdcFabricante AND pafab.IdcProducto = dbo.Productos.IdcProducto INNER JOIN clasifinteragentes cia ON cia.IdcAgenteOrigen = pa.IdcAgente AND cia.IdcAgenteDestino = pafab.IdcAgente INNER JOIN #tpAemeDatos ON #tpAemeDatos.Codigo = pa.Codigo WHERE pa.IdcAgente = 50780 AND dbo.Productos.IdcFabricante NOT IN (SELECT * FROM #tpClientesAlimentium)\n",
      "Query final: DELETE dbo.ProductosAgentes FROM dbo.ProductosAgentes INNER JOIN #tpAemeDatos ON #tpAemeDatos.Codigo = dbo.ProductosAgentes.Codigo WHERE dbo.ProductosAgentes.IdcAgente = 50780\n",
      "Query de DELETE generada para ProductosAgentes: DELETE dbo.ProductosAgentes FROM dbo.ProductosAgentes INNER JOIN #tpAemeDatos ON #tpAemeDatos.Codigo = dbo.ProductosAgentes.Codigo WHERE dbo.ProductosAgentes.IdcAgente = 50780\n",
      "Archivo SQL generado correctamente en: C:/Users/EricOcaña/Downloads\\20241018-9074-000-DAT-limpieza-connecta-HomologacionProductoPascual.sql\n"
     ]
    }
   ],
   "source": [
    "# Llamamos a la función main definida en first.py\n",
    "first.main()"
   ]
  }
 ],
 "metadata": {
  "kernelspec": {
   "display_name": "base",
   "language": "python",
   "name": "python3"
  },
  "language_info": {
   "codemirror_mode": {
    "name": "ipython",
    "version": 3
   },
   "file_extension": ".py",
   "mimetype": "text/x-python",
   "name": "python",
   "nbconvert_exporter": "python",
   "pygments_lexer": "ipython3",
   "version": "3.11.5"
  }
 },
 "nbformat": 4,
 "nbformat_minor": 2
}
