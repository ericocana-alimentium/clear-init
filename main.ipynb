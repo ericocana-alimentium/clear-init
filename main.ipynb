{
 "cells": [
  {
   "cell_type": "code",
   "execution_count": 1,
   "metadata": {},
   "outputs": [
    {
     "name": "stdout",
     "output_type": "stream",
     "text": [
      "['BaseController', 'ConnectaAlimentiumController', 'ConnectaAlimentiumModel', 'ErrorHandler', '__builtins__', '__cached__', '__doc__', '__file__', '__loader__', '__name__', '__package__', '__spec__', 'datetime', 'os']\n"
     ]
    },
    {
     "data": {
      "text/plain": [
       "<module 'controllers.ConnectaAlimentiumController' from 'c:\\\\Users\\\\EricOcaña\\\\Documents\\\\GitHub\\\\clear-init\\\\controllers\\\\ConnectaAlimentiumController.py'>"
      ]
     },
     "execution_count": 1,
     "metadata": {},
     "output_type": "execute_result"
    }
   ],
   "source": [
    "import importlib\n",
    "from views import first \n",
    "from controllers import WorkFlowController \n",
    "import controllers.ConnectaAlimentiumController as connect_module\n",
    "print(dir(connect_module))\n",
    "\n",
    "importlib.reload(first)\n",
    "importlib.reload(WorkFlowController)\n",
    "importlib.reload(connect_module)"
   ]
  },
  {
   "cell_type": "code",
   "execution_count": 2,
   "metadata": {},
   "outputs": [
    {
     "name": "stdout",
     "output_type": "stream",
     "text": [
      "Conectado a la base de datos: AemeDb\n",
      "Query construida: SELECT idcAgente, Codigo FROM wfl.WorkFlowAgente WHERE idcAgente = '45522' AND Codigo = 'HomologacionProductoLactalis'\n",
      "Query construida: SELECT Id, WorkflowId, ProductoOrganizacionId FROM wfl.ProcesoWorkFlow WHERE WorkFlowId = wfl.GetModuloAgenteId('HomologacionProductoLactalis')\n",
      "Query construida: SELECT Id, Codigo, FichaTecnicaPrincipalId FROM ProductoOrganizacion WHERE IdcAgente = '45522'\n",
      "Conectado a la base de datos: Connecta_Alimentium\n",
      "Cambiado a la base de datos: Connecta_Alimentium\n",
      "Query construida: IF OBJECT_ID('tempdb..#tpAemeDatos') IS NOT NULL DROP TABLE #tpAemeDatos\n",
      "Modificación ejecutada exitosamente\n",
      "Query construida: SELECT AeMeDb..ProductoOrganizacion.Id AS ProductoOrganizacionId, AeMeDb..ProductoOrganizacion.Codigo INTO Connecta_Alimentium..#tpAemeDatos FROM AeMeDb..ProductoOrganizacion INNER JOIN AeMeDb.wfl.ProcesoWorkFlow ON AeMeDb..ProductoOrganizacion.Id = AeMeDb.wfl.ProcesoWorkFlow.ProductoOrganizacionId WHERE AeMeDb..ProductoOrganizacion.idcAgente = '45522' AND AeMeDb.wfl.ProcesoWorkFlow.WorkflowId = AeMeDb.wfl.GetModuloAgenteId('HomologacionProductoLactalis')\n",
      "Modificación ejecutada exitosamente\n",
      "Query construida: SELECT * FROM #tpAemeDatos\n",
      "Query de creación de tabla temporal almacenada: SELECT AeMeDb..ProductoOrganizacion.Id AS ProductoOrganizacionId, AeMeDb..ProductoOrganizacion.Codigo INTO Connecta_Alimentium..#tpAemeDatos FROM AeMeDb..ProductoOrganizacion INNER JOIN AeMeDb.wfl.ProcesoWorkFlow ON AeMeDb..ProductoOrganizacion.Id = AeMeDb.wfl.ProcesoWorkFlow.ProductoOrganizacionId WHERE AeMeDb..ProductoOrganizacion.idcAgente = '45522' AND AeMeDb.wfl.ProcesoWorkFlow.WorkflowId = AeMeDb.wfl.GetModuloAgenteId('HomologacionProductoLactalis')\n"
     ]
    },
    {
     "name": "stderr",
     "output_type": "stream",
     "text": [
      "Exception in Tkinter callback\n",
      "Traceback (most recent call last):\n",
      "  File \"c:\\ProgramData\\anaconda3\\Lib\\tkinter\\__init__.py\", line 1948, in __call__\n",
      "    return self.func(*args)\n",
      "           ^^^^^^^^^^^^^^^^\n",
      "  File \"c:\\Users\\EricOcaña\\Documents\\GitHub\\clear-init\\views\\LimpiezaWindow.py\", line 133, in abrir_ventana_connect\n",
      "    self.crear_ventana(LimpiarConnectWindow, \"Limpiar Connect\", \"500x400\", controller=self.connecta_controller, idcAgente=self.idcAgente, autor=self.autor, modulo=self.modulo, tarea_id=self.tarea_id)\n",
      "  File \"c:\\Users\\EricOcaña\\Documents\\GitHub\\clear-init\\views\\LimpiezaWindow.py\", line 121, in crear_ventana\n",
      "    new_window = clase_ventana(master=self.master, **kwargs)\n",
      "                 ^^^^^^^^^^^^^^^^^^^^^^^^^^^^^^^^^^^^^^^^^^^\n",
      "  File \"c:\\Users\\EricOcaña\\Documents\\GitHub\\clear-init\\views\\LimpiarConnectWindow.py\", line 18, in __init__\n",
      "    self.init_window()\n",
      "  File \"c:\\Users\\EricOcaña\\Documents\\GitHub\\clear-init\\views\\LimpiarConnectWindow.py\", line 31, in init_window\n",
      "    self.cargar_productos()\n",
      "  File \"c:\\Users\\EricOcaña\\Documents\\GitHub\\clear-init\\views\\LimpiarConnectWindow.py\", line 60, in cargar_productos\n",
      "    productos_agentes = self.controller.obtener_productos_agentes(datos)\n",
      "                        ^^^^^^^^^^^^^^^^^^^^^^^^^^^^^^^^^^^^^^^^^^^^^^^^\n",
      "TypeError: ConnectaAlimentiumController.obtener_productos_agentes() missing 1 required positional argument: 'autor'\n"
     ]
    }
   ],
   "source": [
    "# Llamamos a la función main definida en first.py\n",
    "first.main()"
   ]
  }
 ],
 "metadata": {
  "kernelspec": {
   "display_name": "base",
   "language": "python",
   "name": "python3"
  },
  "language_info": {
   "codemirror_mode": {
    "name": "ipython",
    "version": 3
   },
   "file_extension": ".py",
   "mimetype": "text/x-python",
   "name": "python",
   "nbconvert_exporter": "python",
   "pygments_lexer": "ipython3",
   "version": "3.11.5"
  }
 },
 "nbformat": 4,
 "nbformat_minor": 2
}
