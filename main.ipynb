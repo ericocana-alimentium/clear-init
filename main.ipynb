{
 "cells": [
  {
   "cell_type": "code",
   "execution_count": 1,
   "metadata": {},
   "outputs": [
    {
     "data": {
      "text/plain": [
       "<module 'controllers.WorkFlowController' from 'c:\\\\Users\\\\EricOcaña\\\\Documents\\\\GitHub\\\\clear-init\\\\controllers\\\\WorkFlowController.py'>"
      ]
     },
     "execution_count": 1,
     "metadata": {},
     "output_type": "execute_result"
    }
   ],
   "source": [
    "import importlib\n",
    "from views import first \n",
    "from controllers import WorkFlowController \n",
    "\n",
    "# Si has hecho cambios en first.py, usa importlib para recargar el módulo\n",
    "importlib.reload(first)\n",
    "importlib.reload(WorkFlowController)"
   ]
  },
  {
   "cell_type": "code",
   "execution_count": 2,
   "metadata": {},
   "outputs": [
    {
     "name": "stdout",
     "output_type": "stream",
     "text": [
      "Conectado a la base de datos: AemeDb\n",
      "Query construida: SELECT idcAgente, Codigo FROM wfl.WorkFlowAgente WHERE idcAgente = '45522' AND Codigo = 'HomologacionProductoLactalis'\n",
      "Query construida: SELECT Id, WorkflowId, ProductoOrganizacionId FROM wfl.ProcesoWorkFlow WHERE WorkFlowId = wfl.GetModuloAgenteId('HomologacionProductoLactalis')\n",
      "Query construida: SELECT Id, Codigo, FichaTecnicaPrincipalId FROM ProductoOrganizacion WHERE IdcAgente = '45522'\n",
      "Estoy en el controller:[154976, 154977, 154984, 154985, 154987, 154989, 154992, 154995, 154978, 154979, 154980, 154981, 154982, 154983, 154986, 154988, 154990, 154991, 200783, 200784, 200785, 200786, 200787, 200788, 200789, 200790, 200791, 200792, 200793, 200794, 200795, 200796, 200797, 200798, 200799, 200800, 200801, 200802, 200803, 200804, 200805, 200806, 200807, 200808, 200809, 200810, 200811, 200812, 200813, 200814, 200815, 200816, 200817, 200818, 200819, 200820, 200821, 200822, 200823, 200824, 200825, 200826, 200827, 200828, 200829, 200830, 200831, 200832, 200833, 200834, 200835, 200836, 200837, 200838, 200839, 200840, 200841, 200842, 200977, 200977, 155215, 155212, 155234, 155235, 155260, 155356, 155357, 155357, 155357, 200869]\n",
      "get_productos_procesados: [154976, 154977, 154984, 154985, 154987, 154989, 154992, 154995, 154978, 154979, 154980, 154981, 154982, 154983, 154986, 154988, 154990, 154991, 200783, 200784, 200785, 200786, 200787, 200788, 200789, 200790, 200791, 200792, 200793, 200794, 200795, 200796, 200797, 200798, 200799, 200800, 200801, 200802, 200803, 200804, 200805, 200806, 200807, 200808, 200809, 200810, 200811, 200812, 200813, 200814, 200815, 200816, 200817, 200818, 200819, 200820, 200821, 200822, 200823, 200824, 200825, 200826, 200827, 200828, 200829, 200830, 200831, 200832, 200833, 200834, 200835, 200836, 200837, 200838, 200839, 200840, 200841, 200842, 200977, 200977, 155215, 155212, 155234, 155235, 155260, 155356, 155357, 155357, 155357, 200869]\n",
      "Query construida: SELECT Id, Codigo FROM ProductoOrganizacion WHERE idcAgente = '45522' AND Id IN (154976, 154977, 154984, 154985, 154987, 154989, 154992, 154995, 154978, 154979, 154980, 154981, 154982, 154983, 154986, 154988, 154990, 154991, 200783, 200784, 200785, 200786, 200787, 200788, 200789, 200790, 200791, 200792, 200793, 200794, 200795, 200796, 200797, 200798, 200799, 200800, 200801, 200802, 200803, 200804, 200805, 200806, 200807, 200808, 200809, 200810, 200811, 200812, 200813, 200814, 200815, 200816, 200817, 200818, 200819, 200820, 200821, 200822, 200823, 200824, 200825, 200826, 200827, 200828, 200829, 200830, 200831, 200832, 200833, 200834, 200835, 200836, 200837, 200838, 200839, 200840, 200841, 200842, 200977, 200977, 155215, 155212, 155234, 155235, 155260, 155356, 155357, 155357, 155357, 200869)\n"
     ]
    }
   ],
   "source": [
    "# Llamamos a la función main definida en first.py\n",
    "first.main()\n"
   ]
  }
 ],
 "metadata": {
  "kernelspec": {
   "display_name": "base",
   "language": "python",
   "name": "python3"
  },
  "language_info": {
   "codemirror_mode": {
    "name": "ipython",
    "version": 3
   },
   "file_extension": ".py",
   "mimetype": "text/x-python",
   "name": "python",
   "nbconvert_exporter": "python",
   "pygments_lexer": "ipython3",
   "version": "3.11.5"
  }
 },
 "nbformat": 4,
 "nbformat_minor": 2
}
