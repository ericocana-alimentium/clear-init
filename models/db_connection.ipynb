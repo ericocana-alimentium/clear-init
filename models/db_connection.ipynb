{
 "cells": [
  {
   "cell_type": "code",
   "execution_count": 2,
   "metadata": {},
   "outputs": [],
   "source": [
    "import pyodbc"
   ]
  },
  {
   "cell_type": "code",
   "execution_count": 3,
   "metadata": {},
   "outputs": [],
   "source": [
    "class DBConnection:\n",
    "    def __init__(self, db_name):\n",
    "        self.db_name = db_name\n",
    "        self.connection = None\n",
    "        self.cursor = None\n",
    "\n",
    "    def connect(self):\n",
    "        try:\n",
    "            self.connection = pyodbc.connect(\n",
    "                'DRIVER={ODBC Driver 17 for SQL Server};'\n",
    "                'SERVER=10.0.3.5, 1433;'\n",
    "                'DATABASE=' + self.db_name + ';'\n",
    "                'UID=cproject_developer;'\n",
    "                'PWD=10549971ea#E32!!'\n",
    "            )\n",
    "            self.cursor = self.connection.cursor()\n",
    "            print(f\"Conectado a la base de datos: {self.db_name}\")\n",
    "        except pyodbc.Error as e:\n",
    "            print(f\"Error al conectar a la base de datos: {e}\")\n",
    "\n",
    "    def close(self):\n",
    "        if self.connection:\n",
    "            self.cursor.close()\n",
    "            self.connection.close()\n",
    "            print(\"Conexión cerrada\")"
   ]
  },
  {
   "cell_type": "code",
   "execution_count": 8,
   "metadata": {},
   "outputs": [
    {
     "name": "stdout",
     "output_type": "stream",
     "text": [
      "Conexión exitosa\n"
     ]
    }
   ],
   "source": [
    "try:\n",
    "    connection = pyodbc.connect(\n",
    "        'DRIVER={ODBC Driver 17 for SQL Server};'\n",
    "        'SERVER=10.0.3.5,1433;'\n",
    "        'UID=cproject_developer;'\n",
    "        'PWD=10549971ea#E32!!'\n",
    "    )\n",
    "    print(\"Conexión exitosa\")\n",
    "    connection.close()\n",
    "except pyodbc.Error as e:\n",
    "    print(f\"Error al conectar a la base de datos: {e}\")"
   ]
  }
 ],
 "metadata": {
  "kernelspec": {
   "display_name": "base",
   "language": "python",
   "name": "python3"
  },
  "language_info": {
   "codemirror_mode": {
    "name": "ipython",
    "version": 3
   },
   "file_extension": ".py",
   "mimetype": "text/x-python",
   "name": "python",
   "nbconvert_exporter": "python",
   "pygments_lexer": "ipython3",
   "version": "3.11.5"
  }
 },
 "nbformat": 4,
 "nbformat_minor": 2
}
