{
 "cells": [
  {
   "cell_type": "code",
   "execution_count": 1,
   "metadata": {},
   "outputs": [],
   "source": [
    "import sys\n",
    "import os\n",
    "sys.path.append(os.path.abspath(\"..\"))\n",
    "\n",
    "from models.ConnectaAlimentiumModel import ConnectaAlimentiumModel\n",
    "from models.db_connection import DBConnection\n"
   ]
  },
  {
   "cell_type": "code",
   "execution_count": 2,
   "metadata": {},
   "outputs": [
    {
     "name": "stdout",
     "output_type": "stream",
     "text": [
      "Conectado a la base de datos: AemeDb\n",
      "Cambiado a la base de datos: Connecta_Alimentium\n"
     ]
    }
   ],
   "source": [
    "# Inicializar la conexión a la base de datos 'AemeDb' primero\n",
    "db = DBConnection(\"AemeDb\")\n",
    "db.connect()\n",
    "\n",
    "# Cambiar a la base de datos 'Connecta_Alimentium' usando la función en el modelo\n",
    "model = ConnectaAlimentiumModel(db.cursor)\n",
    "db.cambiar_base_datos(\"Connecta_Alimentium\")\n"
   ]
  },
  {
   "cell_type": "code",
   "execution_count": 3,
   "metadata": {},
   "outputs": [
    {
     "name": "stdout",
     "output_type": "stream",
     "text": [
      "Query generada: SELECT AeMeDb..ProductoOrganizacion.Id AS ProductoOrganizacionId, AeMeDb..ProductoOrganizacion.Codigo INTO Connecta_Alimentium..#tpAemeDatos FROM AeMeDb..ProductoOrganizacion INNER JOIN AeMeDb.wfl.ProcesoWorkFlow ON AeMeDb..ProductoOrganizacion.Id = AeMeDb.wfl.ProcesoWorkFlow.ProductoOrganizacionId WHERE AeMeDb..ProductoOrganizacion.idcAgente = 45522 AND AeMeDb.wfl.ProcesoWorkFlow.WorkflowId = AeMeDb.wfl.GetModuloAgenteId('HomologacionProductoLactalis')\n",
      "Tabla temporal creada exitosamente.\n",
      "Query generada:\n",
      "None\n"
     ]
    }
   ],
   "source": [
    "# Parámetros de prueba\n",
    "idcAgente = 45522\n",
    "modulo = \"HomologacionProductoLactalis\"\n",
    "\n",
    "# Ejecutar la función para crear la tabla temporal\n",
    "query = model.crear_tabla_temporal(idcAgente, modulo)\n",
    "\n",
    "# Mostrar la query generada para validar\n",
    "print(\"Query generada:\")\n",
    "print(query)\n"
   ]
  }
 ],
 "metadata": {
  "kernelspec": {
   "display_name": "base",
   "language": "python",
   "name": "python3"
  },
  "language_info": {
   "codemirror_mode": {
    "name": "ipython",
    "version": 3
   },
   "file_extension": ".py",
   "mimetype": "text/x-python",
   "name": "python",
   "nbconvert_exporter": "python",
   "pygments_lexer": "ipython3",
   "version": "3.11.5"
  }
 },
 "nbformat": 4,
 "nbformat_minor": 2
}
